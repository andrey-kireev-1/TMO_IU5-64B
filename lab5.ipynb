{
  "nbformat": 4,
  "nbformat_minor": 0,
  "metadata": {
    "colab": {
      "name": "lab5.ipynb",
      "provenance": [],
      "collapsed_sections": []
    },
    "kernelspec": {
      "name": "python3",
      "display_name": "Python 3"
    },
    "language_info": {
      "name": "python"
    }
  },
  "cells": [
    {
      "cell_type": "markdown",
      "source": [
        "###Лабораторная №5: \"Ансамбли моделей машинного обучения\".\n",
        "\n",
        "Киреев Андрей ИУ5-64Б"
      ],
      "metadata": {
        "id": "ZZpREplnk_lq"
      }
    },
    {
      "cell_type": "code",
      "execution_count": 9,
      "metadata": {
        "id": "JqV9W9jck9AI"
      },
      "outputs": [],
      "source": [
        "import pandas as pd\n",
        "import seaborn as sns\n",
        "import matplotlib.pyplot as plt\n",
        "import numpy as np\n",
        "from sklearn.preprocessing import PolynomialFeatures, MinMaxScaler, StandardScaler\n",
        "from sklearn.linear_model import LinearRegression\n",
        "from sklearn.metrics import r2_score, mean_squared_error, mean_absolute_error\n",
        "from sklearn.model_selection import train_test_split, GridSearchCV\n",
        "from sklearn.ensemble import RandomForestRegressor, GradientBoostingRegressor\n",
        "from sklearn.neural_network import MLPRegressor\n",
        "from gmdhpy import gmdh\n",
        "from warnings import simplefilter\n",
        "\n",
        "simplefilter('ignore')"
      ]
    },
    {
      "cell_type": "code",
      "source": [
        "data = pd.read_csv('/content/drive/MyDrive/Colab Notebooks/laptop_price_2.csv')\n",
        "data.head()"
      ],
      "metadata": {
        "colab": {
          "base_uri": "https://localhost:8080/",
          "height": 473
        },
        "id": "oiwtR4jLlvsG",
        "outputId": "3ff96bff-2d36-4d43-c656-e92aafac33f6"
      },
      "execution_count": 10,
      "outputs": [
        {
          "output_type": "execute_result",
          "data": {
            "text/plain": [
              "   laptop_ID Company      Product   TypeName  Inches  Ram_GB  OpSys  \\\n",
              "0          1   Apple  MacBook Pro  Ultrabook    13.3       8  macOS   \n",
              "1          2   Apple  Macbook Air  Ultrabook    13.3       8  macOS   \n",
              "2          3      HP       250 G6   Notebook    15.6       8  No OS   \n",
              "3          4   Apple  MacBook Pro  Ultrabook    15.4      16  macOS   \n",
              "4          5   Apple  MacBook Pro  Ultrabook    13.3       8  macOS   \n",
              "\n",
              "   Weight_kg  Price_euros                ScreenType  ...  ScreenRes  \\\n",
              "0       1.37      1339.69  IPS Panel Retina Display  ...  2560x1600   \n",
              "1       1.34       898.94                         -  ...   1440x900   \n",
              "2       1.86       575.00                   Full HD  ...  1920x1080   \n",
              "3       1.83      2537.45  IPS Panel Retina Display  ...  2880x1800   \n",
              "4       1.37      1803.60  IPS Panel Retina Display  ...  2560x1600   \n",
              "\n",
              "              Cpu_type Cpu_GHz Gpu_producer               Gpu_model  \\\n",
              "0        Intel Core i5     2.3        Intel  Iris Plus Graphics 640   \n",
              "1        Intel Core i5     1.8        Intel        HD Graphics 6000   \n",
              "2  Intel Core i5 7200U     2.5        Intel         HD Graphics 620   \n",
              "3        Intel Core i7     2.7          AMD          Radeon Pro 455   \n",
              "4        Intel Core i5     3.1        Intel  Iris Plus Graphics 650   \n",
              "\n",
              "  Memory1_GB   Memory1_type  Memory2_GB Memory2_type  Memory2  \n",
              "0        128            SSD           0            -        -  \n",
              "1        128  Flash Storage           0            -        -  \n",
              "2        256            SSD           0            -        -  \n",
              "3        512            SSD           0            -        -  \n",
              "4        256            SSD           0            -        -  \n",
              "\n",
              "[5 rows x 22 columns]"
            ],
            "text/html": [
              "\n",
              "  <div id=\"df-ba56f014-aae6-4ac6-9c52-73d9b9e1c592\">\n",
              "    <div class=\"colab-df-container\">\n",
              "      <div>\n",
              "<style scoped>\n",
              "    .dataframe tbody tr th:only-of-type {\n",
              "        vertical-align: middle;\n",
              "    }\n",
              "\n",
              "    .dataframe tbody tr th {\n",
              "        vertical-align: top;\n",
              "    }\n",
              "\n",
              "    .dataframe thead th {\n",
              "        text-align: right;\n",
              "    }\n",
              "</style>\n",
              "<table border=\"1\" class=\"dataframe\">\n",
              "  <thead>\n",
              "    <tr style=\"text-align: right;\">\n",
              "      <th></th>\n",
              "      <th>laptop_ID</th>\n",
              "      <th>Company</th>\n",
              "      <th>Product</th>\n",
              "      <th>TypeName</th>\n",
              "      <th>Inches</th>\n",
              "      <th>Ram_GB</th>\n",
              "      <th>OpSys</th>\n",
              "      <th>Weight_kg</th>\n",
              "      <th>Price_euros</th>\n",
              "      <th>ScreenType</th>\n",
              "      <th>...</th>\n",
              "      <th>ScreenRes</th>\n",
              "      <th>Cpu_type</th>\n",
              "      <th>Cpu_GHz</th>\n",
              "      <th>Gpu_producer</th>\n",
              "      <th>Gpu_model</th>\n",
              "      <th>Memory1_GB</th>\n",
              "      <th>Memory1_type</th>\n",
              "      <th>Memory2_GB</th>\n",
              "      <th>Memory2_type</th>\n",
              "      <th>Memory2</th>\n",
              "    </tr>\n",
              "  </thead>\n",
              "  <tbody>\n",
              "    <tr>\n",
              "      <th>0</th>\n",
              "      <td>1</td>\n",
              "      <td>Apple</td>\n",
              "      <td>MacBook Pro</td>\n",
              "      <td>Ultrabook</td>\n",
              "      <td>13.3</td>\n",
              "      <td>8</td>\n",
              "      <td>macOS</td>\n",
              "      <td>1.37</td>\n",
              "      <td>1339.69</td>\n",
              "      <td>IPS Panel Retina Display</td>\n",
              "      <td>...</td>\n",
              "      <td>2560x1600</td>\n",
              "      <td>Intel Core i5</td>\n",
              "      <td>2.3</td>\n",
              "      <td>Intel</td>\n",
              "      <td>Iris Plus Graphics 640</td>\n",
              "      <td>128</td>\n",
              "      <td>SSD</td>\n",
              "      <td>0</td>\n",
              "      <td>-</td>\n",
              "      <td>-</td>\n",
              "    </tr>\n",
              "    <tr>\n",
              "      <th>1</th>\n",
              "      <td>2</td>\n",
              "      <td>Apple</td>\n",
              "      <td>Macbook Air</td>\n",
              "      <td>Ultrabook</td>\n",
              "      <td>13.3</td>\n",
              "      <td>8</td>\n",
              "      <td>macOS</td>\n",
              "      <td>1.34</td>\n",
              "      <td>898.94</td>\n",
              "      <td>-</td>\n",
              "      <td>...</td>\n",
              "      <td>1440x900</td>\n",
              "      <td>Intel Core i5</td>\n",
              "      <td>1.8</td>\n",
              "      <td>Intel</td>\n",
              "      <td>HD Graphics 6000</td>\n",
              "      <td>128</td>\n",
              "      <td>Flash Storage</td>\n",
              "      <td>0</td>\n",
              "      <td>-</td>\n",
              "      <td>-</td>\n",
              "    </tr>\n",
              "    <tr>\n",
              "      <th>2</th>\n",
              "      <td>3</td>\n",
              "      <td>HP</td>\n",
              "      <td>250 G6</td>\n",
              "      <td>Notebook</td>\n",
              "      <td>15.6</td>\n",
              "      <td>8</td>\n",
              "      <td>No OS</td>\n",
              "      <td>1.86</td>\n",
              "      <td>575.00</td>\n",
              "      <td>Full HD</td>\n",
              "      <td>...</td>\n",
              "      <td>1920x1080</td>\n",
              "      <td>Intel Core i5 7200U</td>\n",
              "      <td>2.5</td>\n",
              "      <td>Intel</td>\n",
              "      <td>HD Graphics 620</td>\n",
              "      <td>256</td>\n",
              "      <td>SSD</td>\n",
              "      <td>0</td>\n",
              "      <td>-</td>\n",
              "      <td>-</td>\n",
              "    </tr>\n",
              "    <tr>\n",
              "      <th>3</th>\n",
              "      <td>4</td>\n",
              "      <td>Apple</td>\n",
              "      <td>MacBook Pro</td>\n",
              "      <td>Ultrabook</td>\n",
              "      <td>15.4</td>\n",
              "      <td>16</td>\n",
              "      <td>macOS</td>\n",
              "      <td>1.83</td>\n",
              "      <td>2537.45</td>\n",
              "      <td>IPS Panel Retina Display</td>\n",
              "      <td>...</td>\n",
              "      <td>2880x1800</td>\n",
              "      <td>Intel Core i7</td>\n",
              "      <td>2.7</td>\n",
              "      <td>AMD</td>\n",
              "      <td>Radeon Pro 455</td>\n",
              "      <td>512</td>\n",
              "      <td>SSD</td>\n",
              "      <td>0</td>\n",
              "      <td>-</td>\n",
              "      <td>-</td>\n",
              "    </tr>\n",
              "    <tr>\n",
              "      <th>4</th>\n",
              "      <td>5</td>\n",
              "      <td>Apple</td>\n",
              "      <td>MacBook Pro</td>\n",
              "      <td>Ultrabook</td>\n",
              "      <td>13.3</td>\n",
              "      <td>8</td>\n",
              "      <td>macOS</td>\n",
              "      <td>1.37</td>\n",
              "      <td>1803.60</td>\n",
              "      <td>IPS Panel Retina Display</td>\n",
              "      <td>...</td>\n",
              "      <td>2560x1600</td>\n",
              "      <td>Intel Core i5</td>\n",
              "      <td>3.1</td>\n",
              "      <td>Intel</td>\n",
              "      <td>Iris Plus Graphics 650</td>\n",
              "      <td>256</td>\n",
              "      <td>SSD</td>\n",
              "      <td>0</td>\n",
              "      <td>-</td>\n",
              "      <td>-</td>\n",
              "    </tr>\n",
              "  </tbody>\n",
              "</table>\n",
              "<p>5 rows × 22 columns</p>\n",
              "</div>\n",
              "      <button class=\"colab-df-convert\" onclick=\"convertToInteractive('df-ba56f014-aae6-4ac6-9c52-73d9b9e1c592')\"\n",
              "              title=\"Convert this dataframe to an interactive table.\"\n",
              "              style=\"display:none;\">\n",
              "        \n",
              "  <svg xmlns=\"http://www.w3.org/2000/svg\" height=\"24px\"viewBox=\"0 0 24 24\"\n",
              "       width=\"24px\">\n",
              "    <path d=\"M0 0h24v24H0V0z\" fill=\"none\"/>\n",
              "    <path d=\"M18.56 5.44l.94 2.06.94-2.06 2.06-.94-2.06-.94-.94-2.06-.94 2.06-2.06.94zm-11 1L8.5 8.5l.94-2.06 2.06-.94-2.06-.94L8.5 2.5l-.94 2.06-2.06.94zm10 10l.94 2.06.94-2.06 2.06-.94-2.06-.94-.94-2.06-.94 2.06-2.06.94z\"/><path d=\"M17.41 7.96l-1.37-1.37c-.4-.4-.92-.59-1.43-.59-.52 0-1.04.2-1.43.59L10.3 9.45l-7.72 7.72c-.78.78-.78 2.05 0 2.83L4 21.41c.39.39.9.59 1.41.59.51 0 1.02-.2 1.41-.59l7.78-7.78 2.81-2.81c.8-.78.8-2.07 0-2.86zM5.41 20L4 18.59l7.72-7.72 1.47 1.35L5.41 20z\"/>\n",
              "  </svg>\n",
              "      </button>\n",
              "      \n",
              "  <style>\n",
              "    .colab-df-container {\n",
              "      display:flex;\n",
              "      flex-wrap:wrap;\n",
              "      gap: 12px;\n",
              "    }\n",
              "\n",
              "    .colab-df-convert {\n",
              "      background-color: #E8F0FE;\n",
              "      border: none;\n",
              "      border-radius: 50%;\n",
              "      cursor: pointer;\n",
              "      display: none;\n",
              "      fill: #1967D2;\n",
              "      height: 32px;\n",
              "      padding: 0 0 0 0;\n",
              "      width: 32px;\n",
              "    }\n",
              "\n",
              "    .colab-df-convert:hover {\n",
              "      background-color: #E2EBFA;\n",
              "      box-shadow: 0px 1px 2px rgba(60, 64, 67, 0.3), 0px 1px 3px 1px rgba(60, 64, 67, 0.15);\n",
              "      fill: #174EA6;\n",
              "    }\n",
              "\n",
              "    [theme=dark] .colab-df-convert {\n",
              "      background-color: #3B4455;\n",
              "      fill: #D2E3FC;\n",
              "    }\n",
              "\n",
              "    [theme=dark] .colab-df-convert:hover {\n",
              "      background-color: #434B5C;\n",
              "      box-shadow: 0px 1px 3px 1px rgba(0, 0, 0, 0.15);\n",
              "      filter: drop-shadow(0px 1px 2px rgba(0, 0, 0, 0.3));\n",
              "      fill: #FFFFFF;\n",
              "    }\n",
              "  </style>\n",
              "\n",
              "      <script>\n",
              "        const buttonEl =\n",
              "          document.querySelector('#df-ba56f014-aae6-4ac6-9c52-73d9b9e1c592 button.colab-df-convert');\n",
              "        buttonEl.style.display =\n",
              "          google.colab.kernel.accessAllowed ? 'block' : 'none';\n",
              "\n",
              "        async function convertToInteractive(key) {\n",
              "          const element = document.querySelector('#df-ba56f014-aae6-4ac6-9c52-73d9b9e1c592');\n",
              "          const dataTable =\n",
              "            await google.colab.kernel.invokeFunction('convertToInteractive',\n",
              "                                                     [key], {});\n",
              "          if (!dataTable) return;\n",
              "\n",
              "          const docLinkHtml = 'Like what you see? Visit the ' +\n",
              "            '<a target=\"_blank\" href=https://colab.research.google.com/notebooks/data_table.ipynb>data table notebook</a>'\n",
              "            + ' to learn more about interactive tables.';\n",
              "          element.innerHTML = '';\n",
              "          dataTable['output_type'] = 'display_data';\n",
              "          await google.colab.output.renderOutput(dataTable, element);\n",
              "          const docLink = document.createElement('div');\n",
              "          docLink.innerHTML = docLinkHtml;\n",
              "          element.appendChild(docLink);\n",
              "        }\n",
              "      </script>\n",
              "    </div>\n",
              "  </div>\n",
              "  "
            ]
          },
          "metadata": {},
          "execution_count": 10
        }
      ]
    },
    {
      "cell_type": "markdown",
      "source": [
        "Закодируем категориальные признаки:"
      ],
      "metadata": {
        "id": "_QMoJe5OmCA_"
      }
    },
    {
      "cell_type": "code",
      "source": [
        "category_cols = ['Memory1_type', 'Memory2_type', 'Company', 'Product', 'TypeName', 'OpSys', \n",
        "                 'ScreenType', 'Cpu_type', 'Gpu_producer', 'Gpu_model']\n",
        "\n",
        "print('Количество уникальных значений\\n')\n",
        "for col in category_cols:\n",
        "    print(f'{col}: {data[col].unique().size}')"
      ],
      "metadata": {
        "colab": {
          "base_uri": "https://localhost:8080/"
        },
        "id": "ZD5B6DSvl-LD",
        "outputId": "3d4105cf-735b-41c5-faed-666181b896f7"
      },
      "execution_count": 11,
      "outputs": [
        {
          "output_type": "stream",
          "name": "stdout",
          "text": [
            "Количество уникальных значений\n",
            "\n",
            "Memory1_type: 4\n",
            "Memory2_type: 4\n",
            "Company: 19\n",
            "Product: 618\n",
            "TypeName: 6\n",
            "OpSys: 9\n",
            "ScreenType: 21\n",
            "Cpu_type: 93\n",
            "Gpu_producer: 4\n",
            "Gpu_model: 110\n"
          ]
        }
      ]
    },
    {
      "cell_type": "code",
      "source": [
        "remove_cols = ['Product', 'Gpu_model', 'Cpu_type']\n",
        "for col in remove_cols:\n",
        "    category_cols.remove(col)\n",
        "data = pd.get_dummies(data, columns=category_cols)\n",
        "data.drop(remove_cols, axis=1, inplace=True)\n",
        "data.drop(['laptop_ID', 'ScreenRes', 'Memory2'], axis=1, inplace=True)\n",
        "data.describe()"
      ],
      "metadata": {
        "colab": {
          "base_uri": "https://localhost:8080/",
          "height": 428
        },
        "id": "2V63Eu_-mF8b",
        "outputId": "60185ac7-daa4-4ba5-9425-50a96dba8962"
      },
      "execution_count": 12,
      "outputs": [
        {
          "output_type": "execute_result",
          "data": {
            "text/plain": [
              "            Inches       Ram_GB    Weight_kg  Price_euros  ScreenWidth  \\\n",
              "count  1250.000000  1250.000000  1250.000000  1250.000000  1250.000000   \n",
              "mean     15.034880     8.443200     2.046152  1132.177480  1897.272000   \n",
              "std       1.416838     5.121929     0.669436   703.965444   491.854703   \n",
              "min      10.100000     2.000000     0.690000   174.000000  1366.000000   \n",
              "25%      14.000000     4.000000     1.500000   600.425000  1600.000000   \n",
              "50%      15.600000     8.000000     2.040000   985.000000  1920.000000   \n",
              "75%      15.600000     8.000000     2.310000  1489.747500  1920.000000   \n",
              "max      18.400000    64.000000     4.700000  6099.000000  3840.000000   \n",
              "\n",
              "       ScreenHeight      Cpu_GHz   Memory1_GB   Memory2_GB  \\\n",
              "count   1250.000000  1250.000000  1250.000000  1250.000000   \n",
              "mean    1072.256000     2.303856   447.180800   174.675200   \n",
              "std      283.172078     0.502772   367.670259   411.340426   \n",
              "min      768.000000     0.900000     8.000000     0.000000   \n",
              "25%      900.000000     2.000000   256.000000     0.000000   \n",
              "50%     1080.000000     2.500000   256.000000     0.000000   \n",
              "75%     1080.000000     2.700000   512.000000     0.000000   \n",
              "max     2160.000000     3.600000  2048.000000  2048.000000   \n",
              "\n",
              "       Memory1_type_Flash Storage  ...  ScreenType_Quad HD+  \\\n",
              "count                 1250.000000  ...          1250.000000   \n",
              "mean                     0.055200  ...             0.002400   \n",
              "std                      0.228462  ...             0.048951   \n",
              "min                      0.000000  ...             0.000000   \n",
              "25%                      0.000000  ...             0.000000   \n",
              "50%                      0.000000  ...             0.000000   \n",
              "75%                      0.000000  ...             0.000000   \n",
              "max                      1.000000  ...             1.000000   \n",
              "\n",
              "       ScreenType_Quad HD+ / Touchscreen  ScreenType_Touchscreen  \\\n",
              "count                        1250.000000             1250.000000   \n",
              "mean                            0.012000                0.025600   \n",
              "std                             0.108929                0.158002   \n",
              "min                             0.000000                0.000000   \n",
              "25%                             0.000000                0.000000   \n",
              "50%                             0.000000                0.000000   \n",
              "75%                             0.000000                0.000000   \n",
              "max                             1.000000                1.000000   \n",
              "\n",
              "       ScreenType_Touchscreen / 4K Ultra HD  ScreenType_Touchscreen / Full HD  \\\n",
              "count                           1250.000000                       1250.000000   \n",
              "mean                               0.000800                          0.000800   \n",
              "std                                0.028284                          0.028284   \n",
              "min                                0.000000                          0.000000   \n",
              "25%                                0.000000                          0.000000   \n",
              "50%                                0.000000                          0.000000   \n",
              "75%                                0.000000                          0.000000   \n",
              "max                                1.000000                          1.000000   \n",
              "\n",
              "       ScreenType_Touchscreen / Quad HD+  Gpu_producer_AMD  Gpu_producer_ARM  \\\n",
              "count                        1250.000000       1250.000000       1250.000000   \n",
              "mean                            0.000800          0.133600          0.000800   \n",
              "std                             0.028284          0.340358          0.028284   \n",
              "min                             0.000000          0.000000          0.000000   \n",
              "25%                             0.000000          0.000000          0.000000   \n",
              "50%                             0.000000          0.000000          0.000000   \n",
              "75%                             0.000000          0.000000          0.000000   \n",
              "max                             1.000000          1.000000          1.000000   \n",
              "\n",
              "       Gpu_producer_Intel  Gpu_producer_Nvidia  \n",
              "count         1250.000000          1250.000000  \n",
              "mean             0.552000             0.313600  \n",
              "std              0.497488             0.464142  \n",
              "min              0.000000             0.000000  \n",
              "25%              0.000000             0.000000  \n",
              "50%              1.000000             0.000000  \n",
              "75%              1.000000             1.000000  \n",
              "max              1.000000             1.000000  \n",
              "\n",
              "[8 rows x 76 columns]"
            ],
            "text/html": [
              "\n",
              "  <div id=\"df-de1dba9f-c3d1-4cfb-9517-4894157db2ab\">\n",
              "    <div class=\"colab-df-container\">\n",
              "      <div>\n",
              "<style scoped>\n",
              "    .dataframe tbody tr th:only-of-type {\n",
              "        vertical-align: middle;\n",
              "    }\n",
              "\n",
              "    .dataframe tbody tr th {\n",
              "        vertical-align: top;\n",
              "    }\n",
              "\n",
              "    .dataframe thead th {\n",
              "        text-align: right;\n",
              "    }\n",
              "</style>\n",
              "<table border=\"1\" class=\"dataframe\">\n",
              "  <thead>\n",
              "    <tr style=\"text-align: right;\">\n",
              "      <th></th>\n",
              "      <th>Inches</th>\n",
              "      <th>Ram_GB</th>\n",
              "      <th>Weight_kg</th>\n",
              "      <th>Price_euros</th>\n",
              "      <th>ScreenWidth</th>\n",
              "      <th>ScreenHeight</th>\n",
              "      <th>Cpu_GHz</th>\n",
              "      <th>Memory1_GB</th>\n",
              "      <th>Memory2_GB</th>\n",
              "      <th>Memory1_type_Flash Storage</th>\n",
              "      <th>...</th>\n",
              "      <th>ScreenType_Quad HD+</th>\n",
              "      <th>ScreenType_Quad HD+ / Touchscreen</th>\n",
              "      <th>ScreenType_Touchscreen</th>\n",
              "      <th>ScreenType_Touchscreen / 4K Ultra HD</th>\n",
              "      <th>ScreenType_Touchscreen / Full HD</th>\n",
              "      <th>ScreenType_Touchscreen / Quad HD+</th>\n",
              "      <th>Gpu_producer_AMD</th>\n",
              "      <th>Gpu_producer_ARM</th>\n",
              "      <th>Gpu_producer_Intel</th>\n",
              "      <th>Gpu_producer_Nvidia</th>\n",
              "    </tr>\n",
              "  </thead>\n",
              "  <tbody>\n",
              "    <tr>\n",
              "      <th>count</th>\n",
              "      <td>1250.000000</td>\n",
              "      <td>1250.000000</td>\n",
              "      <td>1250.000000</td>\n",
              "      <td>1250.000000</td>\n",
              "      <td>1250.000000</td>\n",
              "      <td>1250.000000</td>\n",
              "      <td>1250.000000</td>\n",
              "      <td>1250.000000</td>\n",
              "      <td>1250.000000</td>\n",
              "      <td>1250.000000</td>\n",
              "      <td>...</td>\n",
              "      <td>1250.000000</td>\n",
              "      <td>1250.000000</td>\n",
              "      <td>1250.000000</td>\n",
              "      <td>1250.000000</td>\n",
              "      <td>1250.000000</td>\n",
              "      <td>1250.000000</td>\n",
              "      <td>1250.000000</td>\n",
              "      <td>1250.000000</td>\n",
              "      <td>1250.000000</td>\n",
              "      <td>1250.000000</td>\n",
              "    </tr>\n",
              "    <tr>\n",
              "      <th>mean</th>\n",
              "      <td>15.034880</td>\n",
              "      <td>8.443200</td>\n",
              "      <td>2.046152</td>\n",
              "      <td>1132.177480</td>\n",
              "      <td>1897.272000</td>\n",
              "      <td>1072.256000</td>\n",
              "      <td>2.303856</td>\n",
              "      <td>447.180800</td>\n",
              "      <td>174.675200</td>\n",
              "      <td>0.055200</td>\n",
              "      <td>...</td>\n",
              "      <td>0.002400</td>\n",
              "      <td>0.012000</td>\n",
              "      <td>0.025600</td>\n",
              "      <td>0.000800</td>\n",
              "      <td>0.000800</td>\n",
              "      <td>0.000800</td>\n",
              "      <td>0.133600</td>\n",
              "      <td>0.000800</td>\n",
              "      <td>0.552000</td>\n",
              "      <td>0.313600</td>\n",
              "    </tr>\n",
              "    <tr>\n",
              "      <th>std</th>\n",
              "      <td>1.416838</td>\n",
              "      <td>5.121929</td>\n",
              "      <td>0.669436</td>\n",
              "      <td>703.965444</td>\n",
              "      <td>491.854703</td>\n",
              "      <td>283.172078</td>\n",
              "      <td>0.502772</td>\n",
              "      <td>367.670259</td>\n",
              "      <td>411.340426</td>\n",
              "      <td>0.228462</td>\n",
              "      <td>...</td>\n",
              "      <td>0.048951</td>\n",
              "      <td>0.108929</td>\n",
              "      <td>0.158002</td>\n",
              "      <td>0.028284</td>\n",
              "      <td>0.028284</td>\n",
              "      <td>0.028284</td>\n",
              "      <td>0.340358</td>\n",
              "      <td>0.028284</td>\n",
              "      <td>0.497488</td>\n",
              "      <td>0.464142</td>\n",
              "    </tr>\n",
              "    <tr>\n",
              "      <th>min</th>\n",
              "      <td>10.100000</td>\n",
              "      <td>2.000000</td>\n",
              "      <td>0.690000</td>\n",
              "      <td>174.000000</td>\n",
              "      <td>1366.000000</td>\n",
              "      <td>768.000000</td>\n",
              "      <td>0.900000</td>\n",
              "      <td>8.000000</td>\n",
              "      <td>0.000000</td>\n",
              "      <td>0.000000</td>\n",
              "      <td>...</td>\n",
              "      <td>0.000000</td>\n",
              "      <td>0.000000</td>\n",
              "      <td>0.000000</td>\n",
              "      <td>0.000000</td>\n",
              "      <td>0.000000</td>\n",
              "      <td>0.000000</td>\n",
              "      <td>0.000000</td>\n",
              "      <td>0.000000</td>\n",
              "      <td>0.000000</td>\n",
              "      <td>0.000000</td>\n",
              "    </tr>\n",
              "    <tr>\n",
              "      <th>25%</th>\n",
              "      <td>14.000000</td>\n",
              "      <td>4.000000</td>\n",
              "      <td>1.500000</td>\n",
              "      <td>600.425000</td>\n",
              "      <td>1600.000000</td>\n",
              "      <td>900.000000</td>\n",
              "      <td>2.000000</td>\n",
              "      <td>256.000000</td>\n",
              "      <td>0.000000</td>\n",
              "      <td>0.000000</td>\n",
              "      <td>...</td>\n",
              "      <td>0.000000</td>\n",
              "      <td>0.000000</td>\n",
              "      <td>0.000000</td>\n",
              "      <td>0.000000</td>\n",
              "      <td>0.000000</td>\n",
              "      <td>0.000000</td>\n",
              "      <td>0.000000</td>\n",
              "      <td>0.000000</td>\n",
              "      <td>0.000000</td>\n",
              "      <td>0.000000</td>\n",
              "    </tr>\n",
              "    <tr>\n",
              "      <th>50%</th>\n",
              "      <td>15.600000</td>\n",
              "      <td>8.000000</td>\n",
              "      <td>2.040000</td>\n",
              "      <td>985.000000</td>\n",
              "      <td>1920.000000</td>\n",
              "      <td>1080.000000</td>\n",
              "      <td>2.500000</td>\n",
              "      <td>256.000000</td>\n",
              "      <td>0.000000</td>\n",
              "      <td>0.000000</td>\n",
              "      <td>...</td>\n",
              "      <td>0.000000</td>\n",
              "      <td>0.000000</td>\n",
              "      <td>0.000000</td>\n",
              "      <td>0.000000</td>\n",
              "      <td>0.000000</td>\n",
              "      <td>0.000000</td>\n",
              "      <td>0.000000</td>\n",
              "      <td>0.000000</td>\n",
              "      <td>1.000000</td>\n",
              "      <td>0.000000</td>\n",
              "    </tr>\n",
              "    <tr>\n",
              "      <th>75%</th>\n",
              "      <td>15.600000</td>\n",
              "      <td>8.000000</td>\n",
              "      <td>2.310000</td>\n",
              "      <td>1489.747500</td>\n",
              "      <td>1920.000000</td>\n",
              "      <td>1080.000000</td>\n",
              "      <td>2.700000</td>\n",
              "      <td>512.000000</td>\n",
              "      <td>0.000000</td>\n",
              "      <td>0.000000</td>\n",
              "      <td>...</td>\n",
              "      <td>0.000000</td>\n",
              "      <td>0.000000</td>\n",
              "      <td>0.000000</td>\n",
              "      <td>0.000000</td>\n",
              "      <td>0.000000</td>\n",
              "      <td>0.000000</td>\n",
              "      <td>0.000000</td>\n",
              "      <td>0.000000</td>\n",
              "      <td>1.000000</td>\n",
              "      <td>1.000000</td>\n",
              "    </tr>\n",
              "    <tr>\n",
              "      <th>max</th>\n",
              "      <td>18.400000</td>\n",
              "      <td>64.000000</td>\n",
              "      <td>4.700000</td>\n",
              "      <td>6099.000000</td>\n",
              "      <td>3840.000000</td>\n",
              "      <td>2160.000000</td>\n",
              "      <td>3.600000</td>\n",
              "      <td>2048.000000</td>\n",
              "      <td>2048.000000</td>\n",
              "      <td>1.000000</td>\n",
              "      <td>...</td>\n",
              "      <td>1.000000</td>\n",
              "      <td>1.000000</td>\n",
              "      <td>1.000000</td>\n",
              "      <td>1.000000</td>\n",
              "      <td>1.000000</td>\n",
              "      <td>1.000000</td>\n",
              "      <td>1.000000</td>\n",
              "      <td>1.000000</td>\n",
              "      <td>1.000000</td>\n",
              "      <td>1.000000</td>\n",
              "    </tr>\n",
              "  </tbody>\n",
              "</table>\n",
              "<p>8 rows × 76 columns</p>\n",
              "</div>\n",
              "      <button class=\"colab-df-convert\" onclick=\"convertToInteractive('df-de1dba9f-c3d1-4cfb-9517-4894157db2ab')\"\n",
              "              title=\"Convert this dataframe to an interactive table.\"\n",
              "              style=\"display:none;\">\n",
              "        \n",
              "  <svg xmlns=\"http://www.w3.org/2000/svg\" height=\"24px\"viewBox=\"0 0 24 24\"\n",
              "       width=\"24px\">\n",
              "    <path d=\"M0 0h24v24H0V0z\" fill=\"none\"/>\n",
              "    <path d=\"M18.56 5.44l.94 2.06.94-2.06 2.06-.94-2.06-.94-.94-2.06-.94 2.06-2.06.94zm-11 1L8.5 8.5l.94-2.06 2.06-.94-2.06-.94L8.5 2.5l-.94 2.06-2.06.94zm10 10l.94 2.06.94-2.06 2.06-.94-2.06-.94-.94-2.06-.94 2.06-2.06.94z\"/><path d=\"M17.41 7.96l-1.37-1.37c-.4-.4-.92-.59-1.43-.59-.52 0-1.04.2-1.43.59L10.3 9.45l-7.72 7.72c-.78.78-.78 2.05 0 2.83L4 21.41c.39.39.9.59 1.41.59.51 0 1.02-.2 1.41-.59l7.78-7.78 2.81-2.81c.8-.78.8-2.07 0-2.86zM5.41 20L4 18.59l7.72-7.72 1.47 1.35L5.41 20z\"/>\n",
              "  </svg>\n",
              "      </button>\n",
              "      \n",
              "  <style>\n",
              "    .colab-df-container {\n",
              "      display:flex;\n",
              "      flex-wrap:wrap;\n",
              "      gap: 12px;\n",
              "    }\n",
              "\n",
              "    .colab-df-convert {\n",
              "      background-color: #E8F0FE;\n",
              "      border: none;\n",
              "      border-radius: 50%;\n",
              "      cursor: pointer;\n",
              "      display: none;\n",
              "      fill: #1967D2;\n",
              "      height: 32px;\n",
              "      padding: 0 0 0 0;\n",
              "      width: 32px;\n",
              "    }\n",
              "\n",
              "    .colab-df-convert:hover {\n",
              "      background-color: #E2EBFA;\n",
              "      box-shadow: 0px 1px 2px rgba(60, 64, 67, 0.3), 0px 1px 3px 1px rgba(60, 64, 67, 0.15);\n",
              "      fill: #174EA6;\n",
              "    }\n",
              "\n",
              "    [theme=dark] .colab-df-convert {\n",
              "      background-color: #3B4455;\n",
              "      fill: #D2E3FC;\n",
              "    }\n",
              "\n",
              "    [theme=dark] .colab-df-convert:hover {\n",
              "      background-color: #434B5C;\n",
              "      box-shadow: 0px 1px 3px 1px rgba(0, 0, 0, 0.15);\n",
              "      filter: drop-shadow(0px 1px 2px rgba(0, 0, 0, 0.3));\n",
              "      fill: #FFFFFF;\n",
              "    }\n",
              "  </style>\n",
              "\n",
              "      <script>\n",
              "        const buttonEl =\n",
              "          document.querySelector('#df-de1dba9f-c3d1-4cfb-9517-4894157db2ab button.colab-df-convert');\n",
              "        buttonEl.style.display =\n",
              "          google.colab.kernel.accessAllowed ? 'block' : 'none';\n",
              "\n",
              "        async function convertToInteractive(key) {\n",
              "          const element = document.querySelector('#df-de1dba9f-c3d1-4cfb-9517-4894157db2ab');\n",
              "          const dataTable =\n",
              "            await google.colab.kernel.invokeFunction('convertToInteractive',\n",
              "                                                     [key], {});\n",
              "          if (!dataTable) return;\n",
              "\n",
              "          const docLinkHtml = 'Like what you see? Visit the ' +\n",
              "            '<a target=\"_blank\" href=https://colab.research.google.com/notebooks/data_table.ipynb>data table notebook</a>'\n",
              "            + ' to learn more about interactive tables.';\n",
              "          element.innerHTML = '';\n",
              "          dataTable['output_type'] = 'display_data';\n",
              "          await google.colab.output.renderOutput(dataTable, element);\n",
              "          const docLink = document.createElement('div');\n",
              "          docLink.innerHTML = docLinkHtml;\n",
              "          element.appendChild(docLink);\n",
              "        }\n",
              "      </script>\n",
              "    </div>\n",
              "  </div>\n",
              "  "
            ]
          },
          "metadata": {},
          "execution_count": 12
        }
      ]
    },
    {
      "cell_type": "code",
      "source": [
        "data.info()"
      ],
      "metadata": {
        "colab": {
          "base_uri": "https://localhost:8080/"
        },
        "id": "ZF1dUy2rmHJi",
        "outputId": "cd643d35-8e28-48c4-bacd-f6447a4fd485"
      },
      "execution_count": 13,
      "outputs": [
        {
          "output_type": "stream",
          "name": "stdout",
          "text": [
            "<class 'pandas.core.frame.DataFrame'>\n",
            "RangeIndex: 1250 entries, 0 to 1249\n",
            "Data columns (total 76 columns):\n",
            " #   Column                                          Non-Null Count  Dtype  \n",
            "---  ------                                          --------------  -----  \n",
            " 0   Inches                                          1250 non-null   float64\n",
            " 1   Ram_GB                                          1250 non-null   int64  \n",
            " 2   Weight_kg                                       1250 non-null   float64\n",
            " 3   Price_euros                                     1250 non-null   float64\n",
            " 4   ScreenWidth                                     1250 non-null   int64  \n",
            " 5   ScreenHeight                                    1250 non-null   int64  \n",
            " 6   Cpu_GHz                                         1250 non-null   float64\n",
            " 7   Memory1_GB                                      1250 non-null   int64  \n",
            " 8   Memory2_GB                                      1250 non-null   int64  \n",
            " 9   Memory1_type_Flash Storage                      1250 non-null   uint8  \n",
            " 10  Memory1_type_HDD                                1250 non-null   uint8  \n",
            " 11  Memory1_type_Hybrid                             1250 non-null   uint8  \n",
            " 12  Memory1_type_SSD                                1250 non-null   uint8  \n",
            " 13  Memory2_type_-                                  1250 non-null   uint8  \n",
            " 14  Memory2_type_HDD                                1250 non-null   uint8  \n",
            " 15  Memory2_type_Hybrid                             1250 non-null   uint8  \n",
            " 16  Memory2_type_SSD                                1250 non-null   uint8  \n",
            " 17  Company_Acer                                    1250 non-null   uint8  \n",
            " 18  Company_Apple                                   1250 non-null   uint8  \n",
            " 19  Company_Asus                                    1250 non-null   uint8  \n",
            " 20  Company_Chuwi                                   1250 non-null   uint8  \n",
            " 21  Company_Dell                                    1250 non-null   uint8  \n",
            " 22  Company_Fujitsu                                 1250 non-null   uint8  \n",
            " 23  Company_Google                                  1250 non-null   uint8  \n",
            " 24  Company_HP                                      1250 non-null   uint8  \n",
            " 25  Company_Huawei                                  1250 non-null   uint8  \n",
            " 26  Company_LG                                      1250 non-null   uint8  \n",
            " 27  Company_Lenovo                                  1250 non-null   uint8  \n",
            " 28  Company_MSI                                     1250 non-null   uint8  \n",
            " 29  Company_Mediacom                                1250 non-null   uint8  \n",
            " 30  Company_Microsoft                               1250 non-null   uint8  \n",
            " 31  Company_Razer                                   1250 non-null   uint8  \n",
            " 32  Company_Samsung                                 1250 non-null   uint8  \n",
            " 33  Company_Toshiba                                 1250 non-null   uint8  \n",
            " 34  Company_Vero                                    1250 non-null   uint8  \n",
            " 35  Company_Xiaomi                                  1250 non-null   uint8  \n",
            " 36  TypeName_2 in 1 Convertible                     1250 non-null   uint8  \n",
            " 37  TypeName_Gaming                                 1250 non-null   uint8  \n",
            " 38  TypeName_Netbook                                1250 non-null   uint8  \n",
            " 39  TypeName_Notebook                               1250 non-null   uint8  \n",
            " 40  TypeName_Ultrabook                              1250 non-null   uint8  \n",
            " 41  TypeName_Workstation                            1250 non-null   uint8  \n",
            " 42  OpSys_Android                                   1250 non-null   uint8  \n",
            " 43  OpSys_Chrome OS                                 1250 non-null   uint8  \n",
            " 44  OpSys_Linux                                     1250 non-null   uint8  \n",
            " 45  OpSys_Mac OS X                                  1250 non-null   uint8  \n",
            " 46  OpSys_No OS                                     1250 non-null   uint8  \n",
            " 47  OpSys_Windows 10                                1250 non-null   uint8  \n",
            " 48  OpSys_Windows 10 S                              1250 non-null   uint8  \n",
            " 49  OpSys_Windows 7                                 1250 non-null   uint8  \n",
            " 50  OpSys_macOS                                     1250 non-null   uint8  \n",
            " 51  ScreenType_-                                    1250 non-null   uint8  \n",
            " 52  ScreenType_4K Ultra HD                          1250 non-null   uint8  \n",
            " 53  ScreenType_4K Ultra HD / Touchscreen            1250 non-null   uint8  \n",
            " 54  ScreenType_Full HD                              1250 non-null   uint8  \n",
            " 55  ScreenType_Full HD / Touchscreen                1250 non-null   uint8  \n",
            " 56  ScreenType_IPS Panel                            1250 non-null   uint8  \n",
            " 57  ScreenType_IPS Panel 4K Ultra HD                1250 non-null   uint8  \n",
            " 58  ScreenType_IPS Panel 4K Ultra HD / Touchscreen  1250 non-null   uint8  \n",
            " 59  ScreenType_IPS Panel Full HD                    1250 non-null   uint8  \n",
            " 60  ScreenType_IPS Panel Full HD / Touchscreen      1250 non-null   uint8  \n",
            " 61  ScreenType_IPS Panel Quad HD+                   1250 non-null   uint8  \n",
            " 62  ScreenType_IPS Panel Quad HD+ / Touchscreen     1250 non-null   uint8  \n",
            " 63  ScreenType_IPS Panel Retina Display             1250 non-null   uint8  \n",
            " 64  ScreenType_IPS Panel Touchscreen                1250 non-null   uint8  \n",
            " 65  ScreenType_IPS Panel Touchscreen / 4K Ultra HD  1250 non-null   uint8  \n",
            " 66  ScreenType_Quad HD+                             1250 non-null   uint8  \n",
            " 67  ScreenType_Quad HD+ / Touchscreen               1250 non-null   uint8  \n",
            " 68  ScreenType_Touchscreen                          1250 non-null   uint8  \n",
            " 69  ScreenType_Touchscreen / 4K Ultra HD            1250 non-null   uint8  \n",
            " 70  ScreenType_Touchscreen / Full HD                1250 non-null   uint8  \n",
            " 71  ScreenType_Touchscreen / Quad HD+               1250 non-null   uint8  \n",
            " 72  Gpu_producer_AMD                                1250 non-null   uint8  \n",
            " 73  Gpu_producer_ARM                                1250 non-null   uint8  \n",
            " 74  Gpu_producer_Intel                              1250 non-null   uint8  \n",
            " 75  Gpu_producer_Nvidia                             1250 non-null   uint8  \n",
            "dtypes: float64(4), int64(5), uint8(67)\n",
            "memory usage: 169.8 KB\n"
          ]
        }
      ]
    },
    {
      "cell_type": "markdown",
      "source": [
        "Выведем матрицу корреляций:"
      ],
      "metadata": {
        "id": "Ww2Htj8PmWWI"
      }
    },
    {
      "cell_type": "code",
      "source": [
        "print('Целевой признак - цена ноутбука')\n",
        "best_params = data.corr()['Price_euros'].map(abs).sort_values(ascending=False)[1:]\n",
        "best_params = best_params[best_params.values > 0.4]\n",
        "best_params"
      ],
      "metadata": {
        "colab": {
          "base_uri": "https://localhost:8080/"
        },
        "id": "eFA0UPUlmUdA",
        "outputId": "49226e5a-fc5b-46e8-982a-99ecd7259060"
      },
      "execution_count": 14,
      "outputs": [
        {
          "output_type": "stream",
          "name": "stdout",
          "text": [
            "Целевой признак - цена ноутбука\n"
          ]
        },
        {
          "output_type": "execute_result",
          "data": {
            "text/plain": [
              "Ram_GB               0.743141\n",
              "TypeName_Notebook    0.555495\n",
              "ScreenWidth          0.553660\n",
              "ScreenHeight         0.550213\n",
              "Memory1_type_SSD     0.505318\n",
              "ScreenType_-         0.435191\n",
              "Cpu_GHz              0.431697\n",
              "Memory1_type_HDD     0.425687\n",
              "Name: Price_euros, dtype: float64"
            ]
          },
          "metadata": {},
          "execution_count": 14
        }
      ]
    },
    {
      "cell_type": "code",
      "source": [
        "plt.figure(figsize=(14, 14))\n",
        "sns.heatmap(data[best_params.index].corr(), vmin=-1, vmax=1, cmap='coolwarm', annot=True)\n",
        "plt.show()"
      ],
      "metadata": {
        "colab": {
          "base_uri": "https://localhost:8080/",
          "height": 762
        },
        "id": "3g74UluVmofR",
        "outputId": "be3e6c7f-b7e1-4452-e8ab-19e10254fee6"
      },
      "execution_count": 15,
      "outputs": [
        {
          "output_type": "display_data",
          "data": {
            "text/plain": [
              "<Figure size 1008x1008 with 2 Axes>"
            ],
            "image/png": "[encoded data removed]"
          },
          "metadata": {
            "needs_background": "light"
          }
        }
      ]
    },
    {
      "cell_type": "code",
      "source": [
        "best_params = best_params.drop(['ScreenHeight', 'Memory1_type_SSD', 'ScreenType_-'])"
      ],
      "metadata": {
        "id": "JJDV08kymu8f"
      },
      "execution_count": 17,
      "outputs": []
    },
    {
      "cell_type": "code",
      "source": [
        "plt.figure(figsize=(14, 14))\n",
        "sns.heatmap(data[best_params.index].corr(), vmin=-1, vmax=1, cmap='coolwarm', annot=True)\n",
        "plt.show()"
      ],
      "metadata": {
        "colab": {
          "base_uri": "https://localhost:8080/",
          "height": 683
        },
        "id": "Rki_25XDm0kV",
        "outputId": "796786eb-9d33-4e4f-e4f4-971ce7862bc0"
      },
      "execution_count": 18,
      "outputs": [
        {
          "output_type": "display_data",
          "data": {
            "text/plain": [
              "<Figure size 1008x1008 with 2 Axes>"
            ],
            "image/png": "[encoded data removed]"
          },
          "metadata": {
            "needs_background": "light"
          }
        }
      ]
    },
    {
      "cell_type": "markdown",
      "source": [
        "Разделение выборки на обучающую и тестовую"
      ],
      "metadata": {
        "id": "HNGJ2h41m72S"
      }
    },
    {
      "cell_type": "code",
      "source": [
        "y = data['Price_euros']\n",
        "X = data[best_params.index]\n",
        "x_train, x_test, y_train, y_test = train_test_split(X, y, test_size=0.3, random_state=3)"
      ],
      "metadata": {
        "id": "aAwe8iBCm5ke"
      },
      "execution_count": 19,
      "outputs": []
    },
    {
      "cell_type": "markdown",
      "source": [
        "Масштабирование данных"
      ],
      "metadata": {
        "id": "zUcwm0ABm-pz"
      }
    },
    {
      "cell_type": "code",
      "source": [
        "scaler = StandardScaler().fit(x_train)\n",
        "x_train_scaled = pd.DataFrame(scaler.transform(x_train), columns=x_train.columns)\n",
        "x_test_scaled = pd.DataFrame(scaler.transform(x_test), columns=x_train.columns)"
      ],
      "metadata": {
        "id": "Shd8e3oqm_uP"
      },
      "execution_count": 20,
      "outputs": []
    },
    {
      "cell_type": "markdown",
      "source": [
        "Функция вывода метрик:"
      ],
      "metadata": {
        "id": "hYQbSVx9nBW8"
      }
    },
    {
      "cell_type": "code",
      "source": [
        "def print_metrics(y_test, y_pred):\n",
        "    print(f\"R^2: {r2_score(y_test, y_pred)}\")\n",
        "    print(f\"MSE: {mean_squared_error(y_test, y_pred)}\")\n",
        "    print(f\"MAE: {mean_absolute_error(y_test, y_pred)}\")"
      ],
      "metadata": {
        "id": "RsTcljcbnEh_"
      },
      "execution_count": 21,
      "outputs": []
    },
    {
      "cell_type": "markdown",
      "source": [
        "1) Случайный лес (RandomForestRegressor)"
      ],
      "metadata": {
        "id": "p2GKwjDfnLFu"
      }
    },
    {
      "cell_type": "code",
      "source": [
        "print_metrics(y_test, RandomForestRegressor(random_state=17).fit(x_train, y_train).predict(x_test))"
      ],
      "metadata": {
        "colab": {
          "base_uri": "https://localhost:8080/"
        },
        "id": "xY_s5pFpnOVa",
        "outputId": "df14be6e-88e1-4116-a0f7-2b4280851c0a"
      },
      "execution_count": 22,
      "outputs": [
        {
          "output_type": "stream",
          "name": "stdout",
          "text": [
            "R^2: 0.6968750911812078\n",
            "MSE: 131254.4602379803\n",
            "MAE: 254.91965560764027\n"
          ]
        }
      ]
    },
    {
      "cell_type": "markdown",
      "source": [
        "Подбор гиперпараметров:"
      ],
      "metadata": {
        "id": "0nlrnCq6nVck"
      }
    },
    {
      "cell_type": "code",
      "source": [
        "rf = RandomForestRegressor(random_state=17)\n",
        "params = {'n_estimators': [100, 1000], 'criterion': ['squared_error', 'absolute_error', 'poisson'], \n",
        "          'max_features': ['auto', 'sqrt'], 'min_samples_leaf': [1, 3, 5]}\n",
        "grid_cv = GridSearchCV(estimator=rf, cv=5, param_grid=params, n_jobs=-1, scoring='neg_mean_absolute_error')\n",
        "grid_cv.fit(x_train, y_train)\n",
        "print(grid_cv.best_params_)"
      ],
      "metadata": {
        "colab": {
          "base_uri": "https://localhost:8080/"
        },
        "id": "DArP72o4nS7W",
        "outputId": "427b3619-10fe-45a3-d0be-2cf5f1c72764"
      },
      "execution_count": 23,
      "outputs": [
        {
          "output_type": "stream",
          "name": "stdout",
          "text": [
            "{'criterion': 'absolute_error', 'max_features': 'sqrt', 'min_samples_leaf': 1, 'n_estimators': 1000}\n"
          ]
        }
      ]
    },
    {
      "cell_type": "code",
      "source": [
        "best_rf = grid_cv.best_estimator_\n",
        "best_rf.fit(x_train, y_train)\n",
        "y_pred_rf = best_rf.predict(x_test)\n",
        "print_metrics(y_test, y_pred_rf)"
      ],
      "metadata": {
        "colab": {
          "base_uri": "https://localhost:8080/"
        },
        "id": "3bFniSD6oICt",
        "outputId": "98ca3f63-2157-4e88-f734-3b98ac6e8c65"
      },
      "execution_count": 24,
      "outputs": [
        {
          "output_type": "stream",
          "name": "stdout",
          "text": [
            "R^2: 0.7012154850829543\n",
            "MSE: 129375.0499941507\n",
            "MAE: 251.69142770666673\n"
          ]
        }
      ]
    },
    {
      "cell_type": "markdown",
      "source": [
        "2) Градиентный бустинг (GradientBoostingRegressor)"
      ],
      "metadata": {
        "id": "JZb78sUeoJ0i"
      }
    },
    {
      "cell_type": "code",
      "source": [
        "print_metrics(y_test, GradientBoostingRegressor(random_state=17).fit(x_train, y_train).predict(x_test))"
      ],
      "metadata": {
        "colab": {
          "base_uri": "https://localhost:8080/"
        },
        "id": "jmt-4B__oO39",
        "outputId": "5f69a47b-53f9-4fdc-deea-2442816b11c7"
      },
      "execution_count": 25,
      "outputs": [
        {
          "output_type": "stream",
          "name": "stdout",
          "text": [
            "R^2: 0.6899163393300718\n",
            "MSE: 134267.63134856336\n",
            "MAE: 261.78800590675905\n"
          ]
        }
      ]
    },
    {
      "cell_type": "markdown",
      "source": [
        "Подбор гиперпараметров:"
      ],
      "metadata": {
        "id": "SZxqZGvpoYO8"
      }
    },
    {
      "cell_type": "code",
      "source": [
        "gb = GradientBoostingRegressor(random_state=17)\n",
        "params = {'loss': ['squared_error', 'absolute_error', 'huber'], 'n_estimators': [10, 50, 100, 200], \n",
        "          'criterion': ['friedman_mse', 'squared_error', 'mse', 'mae'], 'min_samples_leaf': [1, 3, 5]}\n",
        "grid_cv = GridSearchCV(estimator=gb, cv=5, param_grid=params, n_jobs=-1, scoring='r2')\n",
        "grid_cv.fit(x_train, y_train)\n",
        "print(grid_cv.best_params_)"
      ],
      "metadata": {
        "colab": {
          "base_uri": "https://localhost:8080/"
        },
        "id": "arsV9mhHoZk8",
        "outputId": "82a1fb10-bd78-4625-a193-3d0d37fba0b3"
      },
      "execution_count": 26,
      "outputs": [
        {
          "output_type": "stream",
          "name": "stdout",
          "text": [
            "{'criterion': 'friedman_mse', 'loss': 'huber', 'min_samples_leaf': 1, 'n_estimators': 100}\n"
          ]
        }
      ]
    },
    {
      "cell_type": "code",
      "source": [
        "best_gb = grid_cv.best_estimator_\n",
        "best_gb.fit(x_train, y_train)\n",
        "y_pred_gb = best_gb.predict(x_test)\n",
        "print_metrics(y_test, y_pred_gb)"
      ],
      "metadata": {
        "colab": {
          "base_uri": "https://localhost:8080/"
        },
        "id": "YR6wiCITocNF",
        "outputId": "f84a012e-10d5-4b0e-f3fd-e52882dd3f78"
      },
      "execution_count": 28,
      "outputs": [
        {
          "output_type": "stream",
          "name": "stdout",
          "text": [
            "R^2: 0.6941685868528518\n",
            "MSE: 132426.388886584\n",
            "MAE: 257.3342487269434\n"
          ]
        }
      ]
    },
    {
      "cell_type": "markdown",
      "source": [
        "3) Стекинг (LinearRegression + RandomForestRegressor + GradientBoostingRegressor)"
      ],
      "metadata": {
        "id": "PE-wWf0lobL_"
      }
    },
    {
      "cell_type": "code",
      "source": [
        "!pip install heamy"
      ],
      "metadata": {
        "colab": {
          "base_uri": "https://localhost:8080/"
        },
        "id": "Gg7C8pKEpeSQ",
        "outputId": "dbae794c-f224-48f2-dff5-6a0b6a8c3271"
      },
      "execution_count": 29,
      "outputs": [
        {
          "output_type": "stream",
          "name": "stdout",
          "text": [
            "Looking in indexes: https://pypi.org/simple, https://us-python.pkg.dev/colab-wheels/public/simple/\n",
            "Collecting heamy\n",
            "  Downloading heamy-0.0.7.tar.gz (30 kB)\n",
            "Requirement already satisfied: scikit-learn>=0.17.0 in /usr/local/lib/python3.7/dist-packages (from heamy) (1.0.2)\n",
            "Requirement already satisfied: pandas>=0.17.0 in /usr/local/lib/python3.7/dist-packages (from heamy) (1.3.5)\n",
            "Requirement already satisfied: six>=1.10.0 in /usr/local/lib/python3.7/dist-packages (from heamy) (1.15.0)\n",
            "Requirement already satisfied: scipy>=0.16.0 in /usr/local/lib/python3.7/dist-packages (from heamy) (1.4.1)\n",
            "Requirement already satisfied: numpy>=1.7.0 in /usr/local/lib/python3.7/dist-packages (from heamy) (1.21.6)\n",
            "Requirement already satisfied: pytz>=2017.3 in /usr/local/lib/python3.7/dist-packages (from pandas>=0.17.0->heamy) (2022.1)\n",
            "Requirement already satisfied: python-dateutil>=2.7.3 in /usr/local/lib/python3.7/dist-packages (from pandas>=0.17.0->heamy) (2.8.2)\n",
            "Requirement already satisfied: joblib>=0.11 in /usr/local/lib/python3.7/dist-packages (from scikit-learn>=0.17.0->heamy) (1.1.0)\n",
            "Requirement already satisfied: threadpoolctl>=2.0.0 in /usr/local/lib/python3.7/dist-packages (from scikit-learn>=0.17.0->heamy) (3.1.0)\n",
            "Building wheels for collected packages: heamy\n",
            "  Building wheel for heamy (setup.py) ... \u001b[?25l\u001b[?25hdone\n",
            "  Created wheel for heamy: filename=heamy-0.0.7-py2.py3-none-any.whl size=15366 sha256=f024dd409a1863ae1e4de8924897c9a64982cb1eed5d647d0b43f24158d48d12\n",
            "  Stored in directory: /root/.cache/pip/wheels/f5/6c/da/55718ad26a9c8d3528b50edc2676fb33b0fb2e2b04e54cc882\n",
            "Successfully built heamy\n",
            "Installing collected packages: heamy\n",
            "Successfully installed heamy-0.0.7\n"
          ]
        }
      ]
    },
    {
      "cell_type": "code",
      "source": [
        "from heamy.estimator import Regressor\n",
        "from heamy.pipeline import ModelsPipeline\n",
        "from heamy.dataset import Dataset"
      ],
      "metadata": {
        "id": "FxJVpzLTp2CM"
      },
      "execution_count": 32,
      "outputs": []
    },
    {
      "cell_type": "code",
      "source": [
        "dataset = Dataset(x_train, y_train, x_test)\n",
        "model_lr = Regressor(dataset=dataset, estimator=LinearRegression, name='lr')\n",
        "model_rf = Regressor(dataset=dataset, estimator=RandomForestRegressor, \n",
        "                     parameters={'criterion': 'absolute_error', 'n_estimators': 1000, 'random_state': 17}, name='rf')\n",
        "pipeline = ModelsPipeline(model_lr, model_rf)\n",
        "stack_ds = pipeline.stack(k=10, seed=1)\n",
        "stacker = Regressor(dataset=stack_ds, estimator=GradientBoostingRegressor)\n",
        "results = stacker.validate(k=10, scorer=mean_absolute_error)"
      ],
      "metadata": {
        "colab": {
          "base_uri": "https://localhost:8080/"
        },
        "id": "zJ2cSUSzpAwG",
        "outputId": "dbf3713e-7d56-4a43-bd91-907b8cdf2dbc"
      },
      "execution_count": 33,
      "outputs": [
        {
          "output_type": "stream",
          "name": "stdout",
          "text": [
            "Metric: mean_absolute_error\n",
            "Folds accuracy: [224.9807596970294, 225.14414799175867, 225.08305028534406, 287.6436634541922, 286.9800907471907, 238.23279727065287, 264.3044983354745, 275.7212300756112, 208.97566572527478, 270.62500915322886]\n",
            "Mean accuracy: 250.76909127357573\n",
            "Standard Deviation: 27.850210157356006\n",
            "Variance: 775.6342058088957\n"
          ]
        }
      ]
    },
    {
      "cell_type": "code",
      "source": [
        "y_pred_stack = stacker.predict()\n",
        "print_metrics(y_test, y_pred_stack)"
      ],
      "metadata": {
        "colab": {
          "base_uri": "https://localhost:8080/"
        },
        "id": "tinVSq4hqeak",
        "outputId": "ac4d3f1b-73ef-4269-9d36-d82bc3cf20a3"
      },
      "execution_count": 34,
      "outputs": [
        {
          "output_type": "stream",
          "name": "stdout",
          "text": [
            "R^2: 0.6550524570825187\n",
            "MSE: 149363.8504749785\n",
            "MAE: 270.419536388916\n"
          ]
        }
      ]
    },
    {
      "cell_type": "markdown",
      "source": [
        "Сравним модели по метрикам:"
      ],
      "metadata": {
        "id": "q6zHu6NCqlYm"
      }
    },
    {
      "cell_type": "code",
      "source": [
        "print(\"Случайный лес\")\n",
        "print_metrics(y_test, y_pred_rf)\n",
        "\n",
        "print(\"\\nГрадиентный бустинг\")\n",
        "print_metrics(y_test, y_pred_gb)\n",
        "\n",
        "print(\"\\nСтекинг\")\n",
        "print_metrics(y_test, y_pred_stack)"
      ],
      "metadata": {
        "colab": {
          "base_uri": "https://localhost:8080/"
        },
        "id": "Yf45giDZqn21",
        "outputId": "47590784-5f99-437e-f98b-71578075e6ea"
      },
      "execution_count": 35,
      "outputs": [
        {
          "output_type": "stream",
          "name": "stdout",
          "text": [
            "Случайный лес\n",
            "R^2: 0.7012154850829543\n",
            "MSE: 129375.0499941507\n",
            "MAE: 251.69142770666673\n",
            "\n",
            "Градиентный бустинг\n",
            "R^2: 0.6941685868528518\n",
            "MSE: 132426.388886584\n",
            "MAE: 257.3342487269434\n",
            "\n",
            "Стекинг\n",
            "R^2: 0.6550524570825187\n",
            "MSE: 149363.8504749785\n",
            "MAE: 270.419536388916\n"
          ]
        }
      ]
    },
    {
      "cell_type": "markdown",
      "source": [
        "Вывод: Несмотря на высокую среднеквадратическую ошибку, у метода Случайный лес показатели ошибок меньше всего. Коэффициент детерминации у Случайного леса также ближе всех  к единице. Значит этот метод для обучения на данном датасете более предпочтителен."
      ],
      "metadata": {
        "id": "SaWIdaelrISe"
      }
    }
  ]
}