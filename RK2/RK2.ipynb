{
  "nbformat": 4,
  "nbformat_minor": 0,
  "metadata": {
    "colab": {
      "name": "RK2.ipynb",
      "provenance": [],
      "collapsed_sections": []
    },
    "kernelspec": {
      "name": "python3",
      "display_name": "Python 3"
    },
    "language_info": {
      "name": "python"
    }
  },
  "cells": [
    {
      "cell_type": "markdown",
      "source": [
        "# Рубежный контроль №2\n",
        "## Киреев Андрей ИУ5-64Б\n",
        "Задание. Для заданного набора данных (googleplaystore.csv) постройте модели классификации или регрессии (в зависимости от конкретной задачи, рассматриваемой в наборе данных). Для построения моделей используйте методы 1 и 2 (1:Линейная/логистическая регрессия, 2:Градиентный бустинг). Оцените качество моделей на основе подходящих метрик качества (не менее двух метрик). Какие метрики качества Вы использовали и почему? Какие выводы Вы можете сделать о качестве построенных моделей? Для построения моделей необходимо выполнить требуемую предобработку данных: заполнение пропусков, кодирование категориальных признаков, и т.д."
      ],
      "metadata": {
        "id": "pNqv6K-sGdDX"
      }
    },
    {
      "cell_type": "code",
      "execution_count": null,
      "metadata": {
        "id": "J9ChwmmEGTdQ"
      },
      "outputs": [],
      "source": [
        "import pandas as pd\n",
        "from sklearn.preprocessing import LabelEncoder\n",
        "import numpy as np\n",
        "import seaborn as sns\n",
        "import matplotlib.pyplot as plt\n",
        "from sklearn.model_selection import train_test_split\n",
        "from sklearn.linear_model import LinearRegression\n",
        "from sklearn.metrics import r2_score, mean_squared_error\n",
        "from sklearn.ensemble import GradientBoostingRegressor"
      ]
    },
    {
      "cell_type": "markdown",
      "source": [
        "Проведем предварительную подготовку датасета: удаление пропусков + кодирование категориальных признаков"
      ],
      "metadata": {
        "id": "DMzhegSqa01A"
      }
    },
    {
      "cell_type": "code",
      "source": [
        "data = pd.read_csv(\"/content/drive/MyDrive/Colab Notebooks/googleplaystore.csv\")"
      ],
      "metadata": {
        "id": "v0_qXn-cOJLV"
      },
      "execution_count": null,
      "outputs": []
    },
    {
      "cell_type": "code",
      "source": [
        "data.head()"
      ],
      "metadata": {
        "colab": {
          "base_uri": "https://localhost:8080/",
          "height": 617
        },
        "id": "4Am8CcVrOT5A",
        "outputId": "4d7d622d-8627-4ef3-a3cd-ec488a325168"
      },
      "execution_count": null,
      "outputs": [
        {
          "output_type": "execute_result",
          "data": {
            "text/plain": [
              "                                                 App        Category  Rating  \\\n",
              "0     Photo Editor & Candy Camera & Grid & ScrapBook  ART_AND_DESIGN     4.1   \n",
              "1                                Coloring book moana  ART_AND_DESIGN     3.9   \n",
              "2  U Launcher Lite – FREE Live Cool Themes, Hide ...  ART_AND_DESIGN     4.7   \n",
              "3                              Sketch - Draw & Paint  ART_AND_DESIGN     4.5   \n",
              "4              Pixel Draw - Number Art Coloring Book  ART_AND_DESIGN     4.3   \n",
              "\n",
              "  Reviews  Size     Installs  Type Price Content Rating  \\\n",
              "0     159   19M      10,000+  Free     0       Everyone   \n",
              "1     967   14M     500,000+  Free     0       Everyone   \n",
              "2   87510  8.7M   5,000,000+  Free     0       Everyone   \n",
              "3  215644   25M  50,000,000+  Free     0           Teen   \n",
              "4     967  2.8M     100,000+  Free     0       Everyone   \n",
              "\n",
              "                      Genres      Last Updated         Current Ver  \\\n",
              "0               Art & Design   January 7, 2018               1.0.0   \n",
              "1  Art & Design;Pretend Play  January 15, 2018               2.0.0   \n",
              "2               Art & Design    August 1, 2018               1.2.4   \n",
              "3               Art & Design      June 8, 2018  Varies with device   \n",
              "4    Art & Design;Creativity     June 20, 2018                 1.1   \n",
              "\n",
              "    Android Ver  \n",
              "0  4.0.3 and up  \n",
              "1  4.0.3 and up  \n",
              "2  4.0.3 and up  \n",
              "3    4.2 and up  \n",
              "4    4.4 and up  "
            ],
            "text/html": [
              "\n",
              "  <div id=\"df-c2492197-d499-4cff-80dd-525f68a8ea35\">\n",
              "    <div class=\"colab-df-container\">\n",
              "      <div>\n",
              "<style scoped>\n",
              "    .dataframe tbody tr th:only-of-type {\n",
              "        vertical-align: middle;\n",
              "    }\n",
              "\n",
              "    .dataframe tbody tr th {\n",
              "        vertical-align: top;\n",
              "    }\n",
              "\n",
              "    .dataframe thead th {\n",
              "        text-align: right;\n",
              "    }\n",
              "</style>\n",
              "<table border=\"1\" class=\"dataframe\">\n",
              "  <thead>\n",
              "    <tr style=\"text-align: right;\">\n",
              "      <th></th>\n",
              "      <th>App</th>\n",
              "      <th>Category</th>\n",
              "      <th>Rating</th>\n",
              "      <th>Reviews</th>\n",
              "      <th>Size</th>\n",
              "      <th>Installs</th>\n",
              "      <th>Type</th>\n",
              "      <th>Price</th>\n",
              "      <th>Content Rating</th>\n",
              "      <th>Genres</th>\n",
              "      <th>Last Updated</th>\n",
              "      <th>Current Ver</th>\n",
              "      <th>Android Ver</th>\n",
              "    </tr>\n",
              "  </thead>\n",
              "  <tbody>\n",
              "    <tr>\n",
              "      <th>0</th>\n",
              "      <td>Photo Editor &amp; Candy Camera &amp; Grid &amp; ScrapBook</td>\n",
              "      <td>ART_AND_DESIGN</td>\n",
              "      <td>4.1</td>\n",
              "      <td>159</td>\n",
              "      <td>19M</td>\n",
              "      <td>10,000+</td>\n",
              "      <td>Free</td>\n",
              "      <td>0</td>\n",
              "      <td>Everyone</td>\n",
              "      <td>Art &amp; Design</td>\n",
              "      <td>January 7, 2018</td>\n",
              "      <td>1.0.0</td>\n",
              "      <td>4.0.3 and up</td>\n",
              "    </tr>\n",
              "    <tr>\n",
              "      <th>1</th>\n",
              "      <td>Coloring book moana</td>\n",
              "      <td>ART_AND_DESIGN</td>\n",
              "      <td>3.9</td>\n",
              "      <td>967</td>\n",
              "      <td>14M</td>\n",
              "      <td>500,000+</td>\n",
              "      <td>Free</td>\n",
              "      <td>0</td>\n",
              "      <td>Everyone</td>\n",
              "      <td>Art &amp; Design;Pretend Play</td>\n",
              "      <td>January 15, 2018</td>\n",
              "      <td>2.0.0</td>\n",
              "      <td>4.0.3 and up</td>\n",
              "    </tr>\n",
              "    <tr>\n",
              "      <th>2</th>\n",
              "      <td>U Launcher Lite – FREE Live Cool Themes, Hide ...</td>\n",
              "      <td>ART_AND_DESIGN</td>\n",
              "      <td>4.7</td>\n",
              "      <td>87510</td>\n",
              "      <td>8.7M</td>\n",
              "      <td>5,000,000+</td>\n",
              "      <td>Free</td>\n",
              "      <td>0</td>\n",
              "      <td>Everyone</td>\n",
              "      <td>Art &amp; Design</td>\n",
              "      <td>August 1, 2018</td>\n",
              "      <td>1.2.4</td>\n",
              "      <td>4.0.3 and up</td>\n",
              "    </tr>\n",
              "    <tr>\n",
              "      <th>3</th>\n",
              "      <td>Sketch - Draw &amp; Paint</td>\n",
              "      <td>ART_AND_DESIGN</td>\n",
              "      <td>4.5</td>\n",
              "      <td>215644</td>\n",
              "      <td>25M</td>\n",
              "      <td>50,000,000+</td>\n",
              "      <td>Free</td>\n",
              "      <td>0</td>\n",
              "      <td>Teen</td>\n",
              "      <td>Art &amp; Design</td>\n",
              "      <td>June 8, 2018</td>\n",
              "      <td>Varies with device</td>\n",
              "      <td>4.2 and up</td>\n",
              "    </tr>\n",
              "    <tr>\n",
              "      <th>4</th>\n",
              "      <td>Pixel Draw - Number Art Coloring Book</td>\n",
              "      <td>ART_AND_DESIGN</td>\n",
              "      <td>4.3</td>\n",
              "      <td>967</td>\n",
              "      <td>2.8M</td>\n",
              "      <td>100,000+</td>\n",
              "      <td>Free</td>\n",
              "      <td>0</td>\n",
              "      <td>Everyone</td>\n",
              "      <td>Art &amp; Design;Creativity</td>\n",
              "      <td>June 20, 2018</td>\n",
              "      <td>1.1</td>\n",
              "      <td>4.4 and up</td>\n",
              "    </tr>\n",
              "  </tbody>\n",
              "</table>\n",
              "</div>\n",
              "      <button class=\"colab-df-convert\" onclick=\"convertToInteractive('df-c2492197-d499-4cff-80dd-525f68a8ea35')\"\n",
              "              title=\"Convert this dataframe to an interactive table.\"\n",
              "              style=\"display:none;\">\n",
              "        \n",
              "  <svg xmlns=\"http://www.w3.org/2000/svg\" height=\"24px\"viewBox=\"0 0 24 24\"\n",
              "       width=\"24px\">\n",
              "    <path d=\"M0 0h24v24H0V0z\" fill=\"none\"/>\n",
              "    <path d=\"M18.56 5.44l.94 2.06.94-2.06 2.06-.94-2.06-.94-.94-2.06-.94 2.06-2.06.94zm-11 1L8.5 8.5l.94-2.06 2.06-.94-2.06-.94L8.5 2.5l-.94 2.06-2.06.94zm10 10l.94 2.06.94-2.06 2.06-.94-2.06-.94-.94-2.06-.94 2.06-2.06.94z\"/><path d=\"M17.41 7.96l-1.37-1.37c-.4-.4-.92-.59-1.43-.59-.52 0-1.04.2-1.43.59L10.3 9.45l-7.72 7.72c-.78.78-.78 2.05 0 2.83L4 21.41c.39.39.9.59 1.41.59.51 0 1.02-.2 1.41-.59l7.78-7.78 2.81-2.81c.8-.78.8-2.07 0-2.86zM5.41 20L4 18.59l7.72-7.72 1.47 1.35L5.41 20z\"/>\n",
              "  </svg>\n",
              "      </button>\n",
              "      \n",
              "  <style>\n",
              "    .colab-df-container {\n",
              "      display:flex;\n",
              "      flex-wrap:wrap;\n",
              "      gap: 12px;\n",
              "    }\n",
              "\n",
              "    .colab-df-convert {\n",
              "      background-color: #E8F0FE;\n",
              "      border: none;\n",
              "      border-radius: 50%;\n",
              "      cursor: pointer;\n",
              "      display: none;\n",
              "      fill: #1967D2;\n",
              "      height: 32px;\n",
              "      padding: 0 0 0 0;\n",
              "      width: 32px;\n",
              "    }\n",
              "\n",
              "    .colab-df-convert:hover {\n",
              "      background-color: #E2EBFA;\n",
              "      box-shadow: 0px 1px 2px rgba(60, 64, 67, 0.3), 0px 1px 3px 1px rgba(60, 64, 67, 0.15);\n",
              "      fill: #174EA6;\n",
              "    }\n",
              "\n",
              "    [theme=dark] .colab-df-convert {\n",
              "      background-color: #3B4455;\n",
              "      fill: #D2E3FC;\n",
              "    }\n",
              "\n",
              "    [theme=dark] .colab-df-convert:hover {\n",
              "      background-color: #434B5C;\n",
              "      box-shadow: 0px 1px 3px 1px rgba(0, 0, 0, 0.15);\n",
              "      filter: drop-shadow(0px 1px 2px rgba(0, 0, 0, 0.3));\n",
              "      fill: #FFFFFF;\n",
              "    }\n",
              "  </style>\n",
              "\n",
              "      <script>\n",
              "        const buttonEl =\n",
              "          document.querySelector('#df-c2492197-d499-4cff-80dd-525f68a8ea35 button.colab-df-convert');\n",
              "        buttonEl.style.display =\n",
              "          google.colab.kernel.accessAllowed ? 'block' : 'none';\n",
              "\n",
              "        async function convertToInteractive(key) {\n",
              "          const element = document.querySelector('#df-c2492197-d499-4cff-80dd-525f68a8ea35');\n",
              "          const dataTable =\n",
              "            await google.colab.kernel.invokeFunction('convertToInteractive',\n",
              "                                                     [key], {});\n",
              "          if (!dataTable) return;\n",
              "\n",
              "          const docLinkHtml = 'Like what you see? Visit the ' +\n",
              "            '<a target=\"_blank\" href=https://colab.research.google.com/notebooks/data_table.ipynb>data table notebook</a>'\n",
              "            + ' to learn more about interactive tables.';\n",
              "          element.innerHTML = '';\n",
              "          dataTable['output_type'] = 'display_data';\n",
              "          await google.colab.output.renderOutput(dataTable, element);\n",
              "          const docLink = document.createElement('div');\n",
              "          docLink.innerHTML = docLinkHtml;\n",
              "          element.appendChild(docLink);\n",
              "        }\n",
              "      </script>\n",
              "    </div>\n",
              "  </div>\n",
              "  "
            ]
          },
          "metadata": {},
          "execution_count": 115
        }
      ]
    },
    {
      "cell_type": "code",
      "source": [
        "data = data.dropna(axis=0)\n",
        "data.shape\n"
      ],
      "metadata": {
        "colab": {
          "base_uri": "https://localhost:8080/"
        },
        "id": "Y8U2R27FOV1K",
        "outputId": "ca589c25-b52a-4aa9-8191-d7449616a5a8"
      },
      "execution_count": null,
      "outputs": [
        {
          "output_type": "execute_result",
          "data": {
            "text/plain": [
              "(9360, 13)"
            ]
          },
          "metadata": {},
          "execution_count": 116
        }
      ]
    },
    {
      "cell_type": "markdown",
      "source": [
        "Типы переменных в датасете до обработки"
      ],
      "metadata": {
        "id": "D0yl33rLa__D"
      }
    },
    {
      "cell_type": "code",
      "source": [
        "data.dtypes"
      ],
      "metadata": {
        "colab": {
          "base_uri": "https://localhost:8080/"
        },
        "id": "JEpP9UOQOdge",
        "outputId": "4d78ac22-542e-4d9e-cfa2-e7836cfefa03"
      },
      "execution_count": null,
      "outputs": [
        {
          "output_type": "execute_result",
          "data": {
            "text/plain": [
              "App                object\n",
              "Category           object\n",
              "Rating            float64\n",
              "Reviews            object\n",
              "Size               object\n",
              "Installs           object\n",
              "Type               object\n",
              "Price              object\n",
              "Content Rating     object\n",
              "Genres             object\n",
              "Last Updated       object\n",
              "Current Ver        object\n",
              "Android Ver        object\n",
              "dtype: object"
            ]
          },
          "metadata": {},
          "execution_count": 117
        }
      ]
    },
    {
      "cell_type": "markdown",
      "source": [
        "Кодируем категориальные признаки в числовые:"
      ],
      "metadata": {
        "id": "kaQmKGxBbEwb"
      }
    },
    {
      "cell_type": "code",
      "source": [
        "for i in range(data.shape[0]):\n",
        "    data[\"Reviews\"].iloc[i] = int(data[\"Reviews\"].iloc[i])\n",
        "    str = data[\"Installs\"].iloc[i][:-1]\n",
        "    data[\"Installs\"].iloc[i] = int(str.replace(\",\", \"\"))\n",
        "    if data[\"Price\"].iloc[i] != \"0\":\n",
        "        data[\"Price\"].iloc[i] = data[\"Price\"].iloc[i][1:]\n",
        "        data[\"Price\"].iloc[i] = float(data[\"Price\"].iloc[i])\n",
        "    else:\n",
        "        data[\"Price\"].iloc[i] = 0\n",
        "data = data.astype({\"Reviews\": \"int64\"})\n",
        "data = data.astype({\"Installs\": \"int64\"})\n",
        "data = data.astype({\"Price\":\"float64\"})\n",
        "\n",
        "leType = LabelEncoder()\n",
        "le_arr = leType.fit_transform(data[\"Type\"])\n",
        "data[\"Type\"] = le_arr\n",
        "data = data.astype({\"Type\":\"int64\"})\n",
        "\n",
        "leContent = LabelEncoder()\n",
        "le_arr = leContent.fit_transform(data[\"Content Rating\"])\n",
        "data[\"Content Rating\"] = le_arr\n",
        "data[\"Content Rating\"].unique()\n",
        "data = data.astype({\"Content Rating\":\"int64\"})\n",
        "\n",
        "leCategory = LabelEncoder()\n",
        "le_arr = leCategory.fit_transform(data[\"Category\"])\n",
        "data[\"Category\"] = le_arr\n",
        "data[\"Category\"].unique()\n",
        "data = data.astype({\"Category\":\"int64\"})\n",
        "\n",
        "leGenres = LabelEncoder()\n",
        "le_arr = leGenres.fit_transform(data[\"Genres\"])\n",
        "data[\"Genres\"] = le_arr\n",
        "data[\"Genres\"].unique()\n",
        "data = data.astype({\"Genres\":\"int64\"})\n",
        "\n",
        "leSize = LabelEncoder()\n",
        "le_arr = leSize.fit_transform(data[\"Size\"])\n",
        "data[\"Size\"] = le_arr\n",
        "data[\"Size\"].unique()\n",
        "data = data.astype({\"Size\":\"int64\"})"
      ],
      "metadata": {
        "colab": {
          "base_uri": "https://localhost:8080/"
        },
        "id": "mWbrRe_FOehO",
        "outputId": "f71dead3-1084-43e3-8e8d-defaf3e7dac7"
      },
      "execution_count": null,
      "outputs": [
        {
          "output_type": "stream",
          "name": "stderr",
          "text": [
            "/usr/local/lib/python3.7/dist-packages/pandas/core/indexing.py:1732: SettingWithCopyWarning: \n",
            "A value is trying to be set on a copy of a slice from a DataFrame\n",
            "\n",
            "See the caveats in the documentation: https://pandas.pydata.org/pandas-docs/stable/user_guide/indexing.html#returning-a-view-versus-a-copy\n",
            "  self._setitem_single_block(indexer, value, name)\n"
          ]
        }
      ]
    },
    {
      "cell_type": "markdown",
      "source": [
        "Название приложения, дата его обновления и версии андроида - признаки с большим количеством уникальных значений, не нужные для исследований. Удалим их."
      ],
      "metadata": {
        "id": "F70KBSiRbJUY"
      }
    },
    {
      "cell_type": "code",
      "source": [
        "data2 = data.drop([\"App\", \"Last Updated\", \"Current Ver\", \"Android Ver\"], axis=1)"
      ],
      "metadata": {
        "id": "s7o2_Ug9RdX9"
      },
      "execution_count": null,
      "outputs": []
    },
    {
      "cell_type": "code",
      "source": [
        "data2.dtypes"
      ],
      "metadata": {
        "colab": {
          "base_uri": "https://localhost:8080/"
        },
        "id": "SSORuo18PbI7",
        "outputId": "b7cb465b-3b4c-4037-9f07-b8d556782220"
      },
      "execution_count": null,
      "outputs": [
        {
          "output_type": "execute_result",
          "data": {
            "text/plain": [
              "Category            int64\n",
              "Rating            float64\n",
              "Reviews             int64\n",
              "Size                int64\n",
              "Installs            int64\n",
              "Type                int64\n",
              "Price             float64\n",
              "Content Rating      int64\n",
              "Genres              int64\n",
              "dtype: object"
            ]
          },
          "metadata": {},
          "execution_count": 120
        }
      ]
    },
    {
      "cell_type": "markdown",
      "source": [
        "Построим матрицу корреляции:"
      ],
      "metadata": {
        "id": "RuExEKLObuj0"
      }
    },
    {
      "cell_type": "code",
      "source": [
        "fig, ax = plt.subplots(figsize=(15,9))\n",
        "sns.heatmap(data2.corr(method=\"pearson\"), ax=ax,annot=True, fmt=\".3f\", center=0)"
      ],
      "metadata": {
        "colab": {
          "base_uri": "https://localhost:8080/",
          "height": 548
        },
        "id": "_t8JuWp9PkOP",
        "outputId": "db2dc3f5-9165-4225-940a-6aa798c14a2f"
      },
      "execution_count": null,
      "outputs": [
        {
          "output_type": "execute_result",
          "data": {
            "text/plain": [
              "<matplotlib.axes._subplots.AxesSubplot at 0x7f4821025250>"
            ]
          },
          "metadata": {},
          "execution_count": 121
        },
        {
          "output_type": "display_data",
          "data": {
            "text/plain": [
              "<Figure size 1080x648 with 2 Axes>"
            ],
            "image/png": "[encoded data removed]"
          },
          "metadata": {
            "needs_background": "light"
          }
        }
      ]
    },
    {
      "cell_type": "markdown",
      "source": [
        "В качестве целевого признака возьмём столбец \"Genres\" - жанры игр в Google Play Store"
      ],
      "metadata": {
        "id": "pQJZtoelbzuL"
      }
    },
    {
      "cell_type": "code",
      "source": [
        "#Разделение выборки на обучающую и тестовую\n",
        "target = \"Genres\"\n",
        "xArray = data2.drop(target, axis=1)\n",
        "yArray = data2[target]\n",
        "trainX, testX, trainY, testY = train_test_split(xArray, yArray, test_size=0.2, random_state=1)"
      ],
      "metadata": {
        "id": "hUHw8ANXQzjd"
      },
      "execution_count": null,
      "outputs": []
    },
    {
      "cell_type": "markdown",
      "source": [
        "### Линейная регрессия\n",
        "Будем использовать функцию LinearRegression() из библиотеки ScikitLearn"
      ],
      "metadata": {
        "id": "RS2CI6nPcAdq"
      }
    },
    {
      "cell_type": "code",
      "source": [
        "LR = LinearRegression()\n",
        "LR.fit(trainX, trainY)"
      ],
      "metadata": {
        "colab": {
          "base_uri": "https://localhost:8080/"
        },
        "id": "2Dwx7KJGQ_ux",
        "outputId": "6b44051b-0469-43be-d337-dc1c4f200674"
      },
      "execution_count": null,
      "outputs": [
        {
          "output_type": "execute_result",
          "data": {
            "text/plain": [
              "LinearRegression()"
            ]
          },
          "metadata": {},
          "execution_count": 123
        }
      ]
    },
    {
      "cell_type": "markdown",
      "source": [
        "Для оценки качетсва модели будем использовать следующие метрики:\n",
        "\n",
        "1) Коэффициента детерминации - чтобы определить насколько качественна модель для обучения. Коэффициент детерминации показывает долю вариации результативного признака, находящегося под воздействием изучаемых факторов, т. е. определяет, какая доля вариации признака Y учтена в модели и обусловлена влиянием на него факторов, включенных в модель. Чем ближе к r2 к 1, тем выше качество модели. \n",
        "\n",
        "2) Корень из средней квадратичной ошибки - чтобы определить разброс ошибок в предсказании модели. RMSE - это способ измерения того, насколько хорошо наша прогностическая модель по сравнению с фактическими данными, чем меньше RMSE, тем лучше способ поведения модели"
      ],
      "metadata": {
        "id": "1NtKWq3WezTE"
      }
    },
    {
      "cell_type": "code",
      "source": [
        "R2_LR = r2_score(testY, LR.predict(testX))\n",
        "RMSE_LR = mean_squared_error(testY, LR.predict(testX), squared=True)"
      ],
      "metadata": {
        "id": "g9T9B9ZvSFED"
      },
      "execution_count": null,
      "outputs": []
    },
    {
      "cell_type": "code",
      "source": [
        "print(\"Коэфф. детерминации: {}\".format(R2_LR))\n",
        "print(\"Среднеквадратическая ошибка (RMSE): {}\".format(RMSE_LR))"
      ],
      "metadata": {
        "id": "Ixiukn_2SGC4",
        "colab": {
          "base_uri": "https://localhost:8080/"
        },
        "outputId": "e01fdee2-43a4-4ac8-86b7-b76526a3cdcc"
      },
      "execution_count": null,
      "outputs": [
        {
          "output_type": "stream",
          "name": "stdout",
          "text": [
            "Коэфф. детерминации: 0.5943559539032288\n",
            "Среднеквадратическая ошибка (RMSE): 431.5223920437256\n"
          ]
        }
      ]
    },
    {
      "cell_type": "markdown",
      "source": [
        "### Градиентный бустинг для регрессии\n",
        "Будем использовать функцию GradientBoostingRegressor из библиотеки ScikitLearn"
      ],
      "metadata": {
        "id": "jR7Be4S6cO7d"
      }
    },
    {
      "cell_type": "code",
      "source": [
        "GB = GradientBoostingRegressor(n_estimators=10, random_state=1)\n",
        "GB.fit(trainX, trainY)"
      ],
      "metadata": {
        "id": "poegxE26S8Bx",
        "colab": {
          "base_uri": "https://localhost:8080/"
        },
        "outputId": "d364a35f-e2c4-4bab-d7ad-ea4092b295e2"
      },
      "execution_count": null,
      "outputs": [
        {
          "output_type": "execute_result",
          "data": {
            "text/plain": [
              "GradientBoostingRegressor(n_estimators=10, random_state=1)"
            ]
          },
          "metadata": {},
          "execution_count": 126
        }
      ]
    },
    {
      "cell_type": "code",
      "source": [
        "R2_GB = r2_score(testY, GB.predict(testX))\n",
        "RMSE_GB= mean_squared_error(testY, GB.predict(testX), squared=True)"
      ],
      "metadata": {
        "id": "AQc1NGZgTGex"
      },
      "execution_count": null,
      "outputs": []
    },
    {
      "cell_type": "code",
      "source": [
        "print(\"Коэфф. детерминации: {}\".format(R2_GB))\n",
        "print(\"Среднеквадратическая ошибка (RMSE): {}\".format(RMSE_GB))"
      ],
      "metadata": {
        "id": "F7N0_lQGTCNh",
        "colab": {
          "base_uri": "https://localhost:8080/"
        },
        "outputId": "c6a04151-0bc1-4998-d12e-40ac07784b15"
      },
      "execution_count": null,
      "outputs": [
        {
          "output_type": "stream",
          "name": "stdout",
          "text": [
            "Коэфф. детерминации: 0.6050155370636838\n",
            "Среднеквадратическая ошибка (RMSE): 420.18277331186016\n"
          ]
        }
      ]
    },
    {
      "cell_type": "markdown",
      "source": [
        "Вывод: из проведенных методов очевидно, что метод Градиентного бустинга не сильно отличается от Линейной регрессии, однако все же показывает лучшие результаты. Оба метода показывают средний коэффициент детерминации, а это значит, что мы не можем точно сказать, о высококачественности модели или о ее непригодности. Однако в обоих методах Среднекватическая ошибка достаточно велика."
      ],
      "metadata": {
        "id": "TkHQctQDfoYB"
      }
    }
  ]
}